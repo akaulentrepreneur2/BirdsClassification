{
 "cells": [
  {
   "cell_type": "markdown",
   "metadata": {
    "colab_type": "text",
    "id": "R8GXHu7kzMjQ"
   },
   "source": [
    "#  **Creating your own Dataset from Google Images**\n",
    "   Inspired By Fastai  Library"
   ]
  },
  {
   "cell_type": "markdown",
   "metadata": {
    "colab_type": "text",
    "id": "SGTjMttsz_kJ"
   },
   "source": [
    "### In this tutorial we will see how to easily create an image dataset through Google Images and load them in keras\n",
    "\n",
    "Note The code has been taken from fastai library and tailored for keras\n"
   ]
  },
  {
   "cell_type": "markdown",
   "metadata": {
    "colab_type": "text",
    "id": "oYK7nOt50VeA"
   },
   "source": [
    "\n",
    "## Get a list of URLs\n",
    "## Search and scroll\n",
    "\n",
    "Go to [Google Images](https://images.google.com/) and search for the images you are interested in. The more specific you are in your Google Search, the better the results and the less manual pruning you will have to do.\n",
    "\n",
    "Scroll down until you see a button that says **Show more results** . All the images you scrolled past are now available to download. To get more, click on the button. Then continue scrolling until you cannot scroll anymore. The maximum number of images Google Images shows is 700.\n",
    "\n",
    "## Download into file\n",
    "\n",
    "Now you must run some Javascript code in your browser which will save the URLs of all the images you want for you dataset.\n",
    "\n",
    "Press Ctrl+Shift+J in Windows/Linux and Cmd+Opt+J in Mac for Chrome and Ctrl+Shift+K in Firefox, a small window the javascript 'Console' will appear. That is where you will paste the JavaScript commands.\n",
    "\n",
    "You will need to get the urls of each of the images. You can do this by running the following commands:\n",
    "\n",
    "\n",
    "\n",
    "```javascript\n",
    "urls=Array.from(document.querySelectorAll('.rg_di.rg_meta')).map(el=>JSON.parse(el.textContent).ou);\n",
    "\n",
    "window.open('data:text/csv;charset=utf-8,' + escape(urls.join('\\n')));\n",
    "```\n",
    "\n",
    "\n"
   ]
  },
  {
   "cell_type": "markdown",
   "metadata": {
    "colab_type": "text",
    "id": "ds3IdHKa2lgk"
   },
   "source": [
    "## In this tutorial, we are working on birds datasets.\n",
    "\n",
    "Here we have images of 10 different birds species found in India.\n",
    "So the steps are as following\n",
    "1. Make 10 CSV files of all the different birds in your local system by following above steps\n",
    "2. Zip it and upload it to Google colab\n",
    "3. Unzip it, download all the Images in their specific folder\n",
    "4. Verify all the Images \n",
    "5. Use It and Enjoy"
   ]
  },
  {
   "cell_type": "code",
   "execution_count": 0,
   "metadata": {
    "colab": {},
    "colab_type": "code",
    "id": "wQ6WjY-4GAt7"
   },
   "outputs": [],
   "source": [
    "# import all the library's\n",
    "from tqdm import tqdm # for progress bar \n",
    "import os,sys,requests \n",
    "from concurrent.futures import ProcessPoolExecutor ,as_completed # Asynchronous Execution\n",
    "import numpy as np \n",
    "import matplotlib.pyplot as plt\n",
    "from pathlib import Path\n",
    "import keras\n",
    "import tensorflow as tf\n"
   ]
  },
  {
   "cell_type": "code",
   "execution_count": 6,
   "metadata": {
    "colab": {
     "base_uri": "https://localhost:8080/",
     "height": 72,
     "resources": {
      "http://localhost:8080/nbextensions/google.colab/files.js": {
       "data": "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",
       "headers": [
        [
         "content-type",
         "application/javascript"
        ]
       ],
       "ok": true,
       "status": 200,
       "status_text": ""
      }
     }
    },
    "colab_type": "code",
    "id": "c_Dk4_oYq_iv",
    "outputId": "8b0c6f77-41e2-4e46-b48a-9c55220c6001"
   },
   "outputs": [
    {
     "data": {
      "text/html": [
       "\n",
       "     <input type=\"file\" id=\"files-a2aea004-4aa5-43e9-bbc1-84a95c930c8a\" name=\"files[]\" multiple disabled />\n",
       "     <output id=\"result-a2aea004-4aa5-43e9-bbc1-84a95c930c8a\">\n",
       "      Upload widget is only available when the cell has been executed in the\n",
       "      current browser session. Please rerun this cell to enable.\n",
       "      </output>\n",
       "      <script src=\"/nbextensions/google.colab/files.js\"></script> "
      ],
      "text/plain": [
       "<IPython.core.display.HTML object>"
      ]
     },
     "metadata": {
      "tags": []
     },
     "output_type": "display_data"
    },
    {
     "name": "stdout",
     "output_type": "stream",
     "text": [
      "Saving Birds.zip to Birds.zip\n"
     ]
    }
   ],
   "source": [
    "# Upload the ziped file \n",
    "from google.colab import files\n",
    "uploaded = files.upload()"
   ]
  },
  {
   "cell_type": "code",
   "execution_count": 7,
   "metadata": {
    "colab": {
     "base_uri": "https://localhost:8080/",
     "height": 408
    },
    "colab_type": "code",
    "id": "lfASYDE4tbex",
    "outputId": "2041462a-f1a4-46b7-a1e6-be6e95678f88"
   },
   "outputs": [
    {
     "name": "stdout",
     "output_type": "stream",
     "text": [
      "Archive:  Birds.zip\n",
      "   creating: Birds/\n",
      "  inflating: Birds/Asian Paradise Flycatcher.csv  \n",
      "  inflating: Birds/Himalayan Monal.csv  \n",
      "  inflating: Birds/Indian Pitta.csv  \n",
      "  inflating: Birds/Mrs. Gould’s Sunbird.csv  \n",
      "  inflating: Birds/Oriental Dwarf Kingfisher.csv  \n",
      "  inflating: Birds/Red Headed Trogon.csv  \n",
      "  inflating: Birds/Sarus Crane.csv   \n",
      "  inflating: Birds/Satyr Tragopan.csv  \n",
      "  inflating: Birds/parrot.csv        \n",
      "  inflating: Birds/peacock.csv       \n",
      "total 620\n",
      "-rw-rw-r-- 1 root root 61740 Nov  3 19:23 'Asian Paradise Flycatcher.csv'\n",
      "-rw-rw-r-- 1 root root 48812 Nov  3 19:20 'Himalayan Monal.csv'\n",
      "-rw-rw-r-- 1 root root 60080 Nov  3 19:15 'Indian Pitta.csv'\n",
      "-rw-rw-r-- 1 root root 54367 Nov  3 19:12 'Mrs. Gould’s Sunbird.csv'\n",
      "-rw-rw-r-- 1 root root 59841 Nov  3 19:06 'Oriental Dwarf Kingfisher.csv'\n",
      "-rw-rw-r-- 1 root root 85959 Nov  3 18:43  parrot.csv\n",
      "-rw-rw-r-- 1 root root 77909 Nov  3 18:37  peacock.csv\n",
      "-rw-rw-r-- 1 root root 55118 Nov  3 19:05 'Red Headed Trogon.csv'\n",
      "-rw-rw-r-- 1 root root 58170 Nov  3 19:03 'Sarus Crane.csv'\n",
      "-rw-rw-r-- 1 root root 51467 Nov  3 19:01 'Satyr Tragopan.csv'\n"
     ]
    }
   ],
   "source": [
    "!unzip Birds.zip\n",
    "!ls -l Birds"
   ]
  },
  {
   "cell_type": "code",
   "execution_count": 0,
   "metadata": {
    "colab": {},
    "colab_type": "code",
    "id": "sCaeH916o6Lc"
   },
   "outputs": [],
   "source": [
    "def download_url(url:str, dest:str, overwrite:bool=False, chunk_size=1024*1024, timeout=4):\n",
    "    \"Download `url` to `dest` unless it exists and not `overwrite`.\"\n",
    "    if os.path.exists(dest) and not overwrite: return\n",
    "\n",
    "    u = requests.get(url, stream=True, timeout=timeout)\n",
    "    try: file_size = int(u.headers[\"Content-Length\"])\n",
    "    except: pass\n",
    "        \n",
    "    with open(dest, 'wb') as f:\n",
    "        for chunk in u.iter_content(chunk_size=chunk_size):\n",
    "            f.write(chunk)\n",
    "\n",
    "def download_images(urls:str, dest:Path, max_pics:int=1000, max_workers:int=8, timeout=4,prefix=None,show_progress=True):\n",
    "    \"Download images listed in text file urls to path dest , at most max_pics\"\n",
    "    urls = open(urls).read().strip().split(\"\\n\")[:max_pics] # get all the urls in the list\n",
    "    dest = Path(dest) # get the path of the folder \n",
    "    dest.mkdir(exist_ok=True) # create all the parent and child directory if neccessary. \n",
    "\n",
    "    if max_workers: # use the power of multiprocessing\n",
    "        with ProcessPoolExecutor(max_workers=max_workers) as ex: # use a ProcessPoolExecutor for using pool of process to execute call asynchronously.\n",
    "             # submit schedules the callable and return a Future object on completion. We iterate through all the urls to create Future objects for each url \n",
    "            futures = [ex.submit(download_url, url, dest/f\"{i:08d}.jpg\", timeout=timeout) for i,url in enumerate(urls)]\n",
    "            if show_progress : \n",
    "                for f in tqdm(as_completed(futures), total=len(urls),desc=prefix): pass # show th progress bar"
   ]
  },
  {
   "cell_type": "code",
   "execution_count": 8,
   "metadata": {
    "colab": {
     "base_uri": "https://localhost:8080/",
     "height": 187
    },
    "colab_type": "code",
    "id": "c-GIyV446djY",
    "outputId": "7c1189f0-2a52-4aea-b0b0-e673795daa3f"
   },
   "outputs": [
    {
     "data": {
      "text/plain": [
       "[PosixPath('Birds/Oriental Dwarf Kingfisher.csv'),\n",
       " PosixPath('Birds/Red Headed Trogon.csv'),\n",
       " PosixPath('Birds/Asian Paradise Flycatcher.csv'),\n",
       " PosixPath('Birds/peacock.csv'),\n",
       " PosixPath('Birds/Sarus Crane.csv'),\n",
       " PosixPath('Birds/Himalayan Monal.csv'),\n",
       " PosixPath('Birds/parrot.csv'),\n",
       " PosixPath('Birds/Indian Pitta.csv'),\n",
       " PosixPath('Birds/Satyr Tragopan.csv'),\n",
       " PosixPath('Birds/Mrs. Gould’s Sunbird.csv')]"
      ]
     },
     "execution_count": 8,
     "metadata": {
      "tags": []
     },
     "output_type": "execute_result"
    }
   ],
   "source": [
    "# get the path for all csv files\n",
    "birdspath = Path(\"Birds\")\n",
    "birdspath = [ Path(child) for child in birdspath.iterdir()]\n",
    "birdspath"
   ]
  },
  {
   "cell_type": "code",
   "execution_count": 12,
   "metadata": {
    "colab": {
     "base_uri": "https://localhost:8080/",
     "height": 357
    },
    "colab_type": "code",
    "id": "ArS40t5rppb6",
    "outputId": "34bd7ff5-433d-4c0a-9b85-0256a6f67b72"
   },
   "outputs": [
    {
     "name": "stdout",
     "output_type": "stream",
     "text": [
      "['OrientalDwarfKingfisher',\n",
      " 'RedHeadedTrogon',\n",
      " 'AsianParadiseFlycatcher',\n",
      " 'peacock',\n",
      " 'SarusCrane',\n",
      " 'HimalayanMonal',\n",
      " 'parrot',\n",
      " 'IndianPitta',\n",
      " 'SatyrTragopan',\n",
      " 'MrsGould’sSunbird']\n",
      "{'AsianParadiseFlycatcher': PosixPath('Birds/Asian Paradise Flycatcher.csv'),\n",
      " 'HimalayanMonal': PosixPath('Birds/Himalayan Monal.csv'),\n",
      " 'IndianPitta': PosixPath('Birds/Indian Pitta.csv'),\n",
      " 'MrsGould’sSunbird': PosixPath('Birds/Mrs. Gould’s Sunbird.csv'),\n",
      " 'OrientalDwarfKingfisher': PosixPath('Birds/Oriental Dwarf Kingfisher.csv'),\n",
      " 'RedHeadedTrogon': PosixPath('Birds/Red Headed Trogon.csv'),\n",
      " 'SarusCrane': PosixPath('Birds/Sarus Crane.csv'),\n",
      " 'SatyrTragopan': PosixPath('Birds/Satyr Tragopan.csv'),\n",
      " 'parrot': PosixPath('Birds/parrot.csv'),\n",
      " 'peacock': PosixPath('Birds/peacock.csv')}\n"
     ]
    }
   ],
   "source": [
    "import re\n",
    "from pprint import pprint \n",
    "all_birds_Name = [re.sub(r\".csv|\\.\\s|\\s*|\\’\" , r\"\", x.name) for x in birdspath] # Get all the birds name from the csv file\n",
    "pprint(all_birds_Name)\n",
    "folder_file = {x:y for x ,y in zip(all_birds_Name , birdspath)} # create a folder name the file name dictionary \n",
    "pprint(folder_file)"
   ]
  },
  {
   "cell_type": "code",
   "execution_count": 16,
   "metadata": {
    "colab": {
     "base_uri": "https://localhost:8080/",
     "height": 187
    },
    "colab_type": "code",
    "id": "mx3NbCz16ua9",
    "outputId": "77892302-6734-4f66-f935-c2ea458fe8f8"
   },
   "outputs": [
    {
     "name": "stderr",
     "output_type": "stream",
     "text": [
      "OrientalDwarfKingfisher: 100%|██████████| 546/546 [00:34<00:00, 15.77it/s]\n",
      "RedHeadedTrogon: 100%|██████████| 585/585 [00:39<00:00, 14.70it/s]\n",
      "AsianParadiseFlycatcher: 100%|██████████| 634/634 [00:40<00:00, 15.70it/s]\n",
      "peacock: 100%|██████████| 810/810 [00:54<00:00, 14.91it/s]\n",
      "SarusCrane: 100%|██████████| 609/609 [00:44<00:00, 13.65it/s]\n",
      "HimalayanMonal: 100%|██████████| 512/512 [00:31<00:00, 16.07it/s]\n",
      "parrot: 100%|██████████| 847/847 [01:09<00:00, 12.24it/s]\n",
      "IndianPitta: 100%|██████████| 648/648 [00:52<00:00,  1.28it/s]\n",
      "SatyrTragopan: 100%|██████████| 544/544 [00:34<00:00, 15.79it/s]\n",
      "MrsGould’sSunbird: 100%|██████████| 550/550 [00:35<00:00, 15.47it/s]\n"
     ]
    }
   ],
   "source": [
    "# download all the images \n",
    "for folder,file in folder_file.items():\n",
    "    path = Path(\"train\") # create a parent directory   \n",
    "    dest = path/folder # Specific folder for each bird\n",
    "    dest.mkdir(parents=True,exist_ok=True)\n",
    "    download_images(file, dest,prefix=folder)"
   ]
  },
  {
   "cell_type": "code",
   "execution_count": 25,
   "metadata": {
    "colab": {
     "base_uri": "https://localhost:8080/",
     "height": 187
    },
    "colab_type": "code",
    "id": "KpivGLyOtfcS",
    "outputId": "9e9ce3af-7521-459e-e178-1d998ef033d7"
   },
   "outputs": [
    {
     "data": {
      "text/plain": [
       "[('HimalayanMonal', 510),\n",
       " ('SatyrTragopan', 531),\n",
       " ('OrientalDwarfKingfisher', 540),\n",
       " ('MrsGould’sSunbird', 544),\n",
       " ('RedHeadedTrogon', 578),\n",
       " ('SarusCrane', 605),\n",
       " ('AsianParadiseFlycatcher', 632),\n",
       " ('IndianPitta', 647),\n",
       " ('peacock', 803),\n",
       " ('parrot', 834)]"
      ]
     },
     "execution_count": 25,
     "metadata": {
      "tags": []
     },
     "output_type": "execute_result"
    }
   ],
   "source": [
    "length = lambda iterrator : len(tuple(iterrator))\n",
    "birdsPerClassCount = { (path/folder).name : length((path/folder).iterdir()) for folder,file in folder_file.items() }\n",
    "sorted(birdsPerClassCount.items() , key=lambda x :x[1])"
   ]
  },
  {
   "cell_type": "code",
   "execution_count": 0,
   "metadata": {
    "colab": {},
    "colab_type": "code",
    "id": "FBBjtKenyYF1"
   },
   "outputs": [],
   "source": [
    "import PIL\n",
    "def verify_image(file:Path, delete:bool ,dest:Path=None, n_channels:int=3, **kwargs):\n",
    "    \"\"\"Check if the image in `file` exists, can be opend and has `n_channels`. If `delete`, removes it if it fails.\n",
    "        Result is stored in `dest` `img_format` and `kwargs` are passed to PIL.Image.save.\"\"\"\n",
    "    try:\n",
    "        img = PIL.Image.open(file)\n",
    "        assert isinstance(dest, Path), \"You should provide `dest` Path to save resized image\"\n",
    "        if not file.is_file(): return\n",
    "        if n_channels == 3: img = img.convert(\"RGB\")\n",
    "        img.save(file, **kwargs)\n",
    "        img = np.array(img)\n",
    "        img_channels = 1 if len(img.shape) == 2 else img.shape[2]\n",
    "        assert img_channels == n_channels, f\"Image {file} has {img_channels} instead of {n_channels}\"\n",
    "    except Exception as e:\n",
    "        print(f'{e}')\n",
    "        if delete: file.unlink()\n",
    "\n",
    "def verify_images(path:Path, delete:bool=True, max_workers:int=4 , dest:Path=\".\",n_channels:int=3,**kwargs):\n",
    "    \"\"\"Check if the image in `path` exists, can be opened and has `n_channels`.\n",
    "    If `n_channels` is 3 – it'll try to convert image to RGB. If `delete`, removes it if it fails.\n",
    "    If `resume` – it will skip already existent images in `dest`.  If `max_size` is specifided,\n",
    "    image is resized to the same ratio so that both sizes are less than `max_size`, using `interp`.\n",
    "    Result is stored in `dest`, `ext` forces an extension type, `img_format` and `kwargs` are\n",
    "    passed to PIL.Image.save. Use `max_workers` CPUs.\"\"\"\n",
    "    path = Path(path)\n",
    "    dest = path/Path(dest)\n",
    "    dest.mkdir(exist_ok=True)\n",
    "    with ProcessPoolExecutor(max_workers=max_workers) as ex:\n",
    "        files = [Path(file) for file in path.iterdir()]\n",
    "        futures = [ex.submit(verify_image, file, delete=delete,dest=dest, n_channels=n_channels, **kwargs) for file in files]\n",
    "    for f in tqdm(as_completed(futures), total=len(files) , desc=path.name): pass"
   ]
  },
  {
   "cell_type": "code",
   "execution_count": 27,
   "metadata": {
    "colab": {
     "base_uri": "https://localhost:8080/",
     "height": 4372
    },
    "colab_type": "code",
    "id": "Hr87BXiPydTw",
    "outputId": "63d975cf-8dda-4268-8c79-dd4b336f0b9e"
   },
   "outputs": [
    {
     "name": "stdout",
     "output_type": "stream",
     "text": [
      "cannot identify image file '/content/train/OrientalDwarfKingfisher/00000542.jpg'\n",
      "cannot identify image file '/content/train/OrientalDwarfKingfisher/00000394.jpg'\n",
      "cannot identify image file '/content/train/OrientalDwarfKingfisher/00000539.jpg'\n",
      "cannot identify image file '/content/train/OrientalDwarfKingfisher/00000204.jpg'\n",
      "cannot identify image file '/content/train/OrientalDwarfKingfisher/00000023.jpg'\n",
      "cannot identify image file '/content/train/OrientalDwarfKingfisher/00000383.jpg'\n",
      "cannot identify image file '/content/train/OrientalDwarfKingfisher/00000528.jpg'\n",
      "cannot identify image file '/content/train/OrientalDwarfKingfisher/00000007.jpg'\n",
      "cannot identify image file '/content/train/OrientalDwarfKingfisher/00000364.jpg'\n",
      "cannot identify image file '/content/train/OrientalDwarfKingfisher/00000129.jpg'\n",
      "cannot identify image file '/content/train/OrientalDwarfKingfisher/00000439.jpg'\n",
      "cannot identify image file '/content/train/OrientalDwarfKingfisher/00000124.jpg'\n",
      "cannot identify image file '/content/train/OrientalDwarfKingfisher/00000064.jpg'\n",
      "cannot identify image file '/content/train/OrientalDwarfKingfisher/00000303.jpg'\n",
      "cannot identify image file '/content/train/OrientalDwarfKingfisher/00000236.jpg'\n",
      "cannot identify image file '/content/train/OrientalDwarfKingfisher/00000327.jpg'\n",
      "cannot identify image file '/content/train/OrientalDwarfKingfisher/00000495.jpg'\n",
      "cannot identify image file '/content/train/OrientalDwarfKingfisher/00000334.jpg'\n",
      "cannot identify image file '/content/train/OrientalDwarfKingfisher/00000045.jpg'\n",
      "cannot identify image file '/content/train/OrientalDwarfKingfisher/00000285.jpg'\n",
      "cannot identify image file '/content/train/OrientalDwarfKingfisher/00000518.jpg'\n"
     ]
    },
    {
     "name": "stderr",
     "output_type": "stream",
     "text": [
      "OrientalDwarfKingfisher: 100%|██████████| 540/540 [00:00<00:00, 199535.21it/s]\n"
     ]
    },
    {
     "name": "stdout",
     "output_type": "stream",
     "text": [
      "cannot identify image file '/content/train/RedHeadedTrogon/00000152.jpg'\n",
      "cannot identify image file '/content/train/RedHeadedTrogon/00000065.jpg'\n",
      "cannot identify image file '/content/train/RedHeadedTrogon/00000221.jpg'\n",
      "cannot identify image file '/content/train/RedHeadedTrogon/00000283.jpg'\n",
      "cannot identify image file '/content/train/RedHeadedTrogon/00000348.jpg'\n",
      "cannot identify image file '/content/train/RedHeadedTrogon/00000177.jpg'\n",
      "cannot identify image file '/content/train/RedHeadedTrogon/00000342.jpg'\n",
      "cannot identify image file '/content/train/RedHeadedTrogon/00000364.jpg'\n",
      "cannot identify image file '/content/train/RedHeadedTrogon/00000298.jpg'\n",
      "cannot identify image file '/content/train/RedHeadedTrogon/00000400.jpg'\n"
     ]
    },
    {
     "name": "stderr",
     "output_type": "stream",
     "text": [
      "/usr/local/lib/python3.6/dist-packages/PIL/Image.py:872: UserWarning: Palette images with Transparency   expressed in bytes should be converted to RGBA images\n",
      "  'to RGBA images')\n"
     ]
    },
    {
     "name": "stdout",
     "output_type": "stream",
     "text": [
      "cannot identify image file '/content/train/RedHeadedTrogon/00000253.jpg'\n",
      "cannot identify image file '/content/train/RedHeadedTrogon/00000016.jpg'\n",
      "cannot identify image file '/content/train/RedHeadedTrogon/00000265.jpg'\n",
      "cannot identify image file '/content/train/RedHeadedTrogon/00000197.jpg'\n",
      "cannot identify image file '/content/train/RedHeadedTrogon/00000223.jpg'\n",
      "cannot identify image file '/content/train/RedHeadedTrogon/00000341.jpg'\n",
      "cannot identify image file '/content/train/RedHeadedTrogon/00000076.jpg'\n"
     ]
    },
    {
     "name": "stderr",
     "output_type": "stream",
     "text": [
      "RedHeadedTrogon: 100%|██████████| 578/578 [00:00<00:00, 168272.90it/s]\n"
     ]
    },
    {
     "name": "stdout",
     "output_type": "stream",
     "text": [
      "cannot identify image file '/content/train/AsianParadiseFlycatcher/00000269.jpg'\n",
      "cannot identify image file '/content/train/AsianParadiseFlycatcher/00000365.jpg'\n",
      "cannot identify image file '/content/train/AsianParadiseFlycatcher/00000629.jpg'\n",
      "cannot identify image file '/content/train/AsianParadiseFlycatcher/00000377.jpg'\n",
      "cannot identify image file '/content/train/AsianParadiseFlycatcher/00000625.jpg'\n",
      "cannot identify image file '/content/train/AsianParadiseFlycatcher/00000087.jpg'\n",
      "cannot identify image file '/content/train/AsianParadiseFlycatcher/00000607.jpg'\n",
      "cannot identify image file '/content/train/AsianParadiseFlycatcher/00000507.jpg'\n",
      "cannot identify image file '/content/train/AsianParadiseFlycatcher/00000578.jpg'\n",
      "cannot identify image file '/content/train/AsianParadiseFlycatcher/00000546.jpg'\n",
      "cannot identify image file '/content/train/AsianParadiseFlycatcher/00000616.jpg'\n",
      "cannot identify image file '/content/train/AsianParadiseFlycatcher/00000280.jpg'\n",
      "cannot identify image file '/content/train/AsianParadiseFlycatcher/00000292.jpg'\n",
      "cannot identify image file '/content/train/AsianParadiseFlycatcher/00000486.jpg'\n",
      "cannot identify image file '/content/train/AsianParadiseFlycatcher/00000598.jpg'\n",
      "cannot identify image file '/content/train/AsianParadiseFlycatcher/00000185.jpg'\n",
      "cannot identify image file '/content/train/AsianParadiseFlycatcher/00000356.jpg'\n",
      "cannot identify image file '/content/train/AsianParadiseFlycatcher/00000632.jpg'\n",
      "cannot identify image file '/content/train/AsianParadiseFlycatcher/00000602.jpg'\n",
      "cannot identify image file '/content/train/AsianParadiseFlycatcher/00000450.jpg'\n",
      "cannot identify image file '/content/train/AsianParadiseFlycatcher/00000218.jpg'\n",
      "cannot identify image file '/content/train/AsianParadiseFlycatcher/00000282.jpg'\n",
      "cannot identify image file '/content/train/AsianParadiseFlycatcher/00000572.jpg'\n",
      "cannot identify image file '/content/train/AsianParadiseFlycatcher/00000477.jpg'\n",
      "cannot identify image file '/content/train/AsianParadiseFlycatcher/00000406.jpg'\n",
      "cannot identify image file '/content/train/AsianParadiseFlycatcher/00000485.jpg'\n",
      "cannot identify image file '/content/train/AsianParadiseFlycatcher/00000146.jpg'\n",
      "cannot identify image file '/content/train/AsianParadiseFlycatcher/00000045.jpg'\n"
     ]
    },
    {
     "name": "stderr",
     "output_type": "stream",
     "text": [
      "AsianParadiseFlycatcher: 100%|██████████| 632/632 [00:00<00:00, 194596.98it/s]\n"
     ]
    },
    {
     "name": "stdout",
     "output_type": "stream",
     "text": [
      "cannot identify image file '/content/train/peacock/00000779.jpg'\n",
      "cannot identify image file '/content/train/peacock/00000140.jpg'\n",
      "cannot identify image file '/content/train/peacock/00000176.jpg'\n",
      "cannot identify image file '/content/train/peacock/00000086.jpg'\n",
      "cannot identify image file '/content/train/peacock/00000290.jpg'\n",
      "cannot identify image file '/content/train/peacock/00000581.jpg'\n",
      "cannot identify image file '/content/train/peacock/00000092.jpg'\n"
     ]
    },
    {
     "name": "stderr",
     "output_type": "stream",
     "text": [
      "/usr/local/lib/python3.6/dist-packages/PIL/Image.py:872: UserWarning: Palette images with Transparency   expressed in bytes should be converted to RGBA images\n",
      "  'to RGBA images')\n"
     ]
    },
    {
     "name": "stdout",
     "output_type": "stream",
     "text": [
      "cannot identify image file '/content/train/peacock/00000100.jpg'\n",
      "cannot identify image file '/content/train/peacock/00000380.jpg'\n",
      "cannot identify image file '/content/train/peacock/00000350.jpg'\n"
     ]
    },
    {
     "name": "stderr",
     "output_type": "stream",
     "text": [
      "/usr/local/lib/python3.6/dist-packages/PIL/Image.py:872: UserWarning: Palette images with Transparency   expressed in bytes should be converted to RGBA images\n",
      "  'to RGBA images')\n"
     ]
    },
    {
     "name": "stdout",
     "output_type": "stream",
     "text": [
      "cannot identify image file '/content/train/peacock/00000763.jpg'\n",
      "cannot identify image file '/content/train/peacock/00000220.jpg'\n",
      "cannot identify image file '/content/train/peacock/00000447.jpg'\n",
      "cannot identify image file '/content/train/peacock/00000552.jpg'\n",
      "cannot identify image file '/content/train/peacock/00000496.jpg'\n",
      "cannot identify image file '/content/train/peacock/00000718.jpg'\n",
      "cannot identify image file '/content/train/peacock/00000699.jpg'\n",
      "cannot identify image file '/content/train/peacock/00000082.jpg'\n",
      "cannot identify image file '/content/train/peacock/00000706.jpg'\n",
      "cannot identify image file '/content/train/peacock/00000726.jpg'\n",
      "cannot identify image file '/content/train/peacock/00000479.jpg'\n",
      "cannot identify image file '/content/train/peacock/00000282.jpg'\n",
      "cannot identify image file '/content/train/peacock/00000406.jpg'\n"
     ]
    },
    {
     "name": "stderr",
     "output_type": "stream",
     "text": [
      "/usr/local/lib/python3.6/dist-packages/PIL/Image.py:872: UserWarning: Palette images with Transparency   expressed in bytes should be converted to RGBA images\n",
      "  'to RGBA images')\n"
     ]
    },
    {
     "name": "stdout",
     "output_type": "stream",
     "text": [
      "cannot identify image file '/content/train/peacock/00000579.jpg'\n",
      "cannot identify image file '/content/train/peacock/00000324.jpg'\n",
      "cannot identify image file '/content/train/peacock/00000105.jpg'\n",
      "cannot identify image file '/content/train/peacock/00000242.jpg'\n"
     ]
    },
    {
     "name": "stderr",
     "output_type": "stream",
     "text": [
      "peacock: 100%|██████████| 803/803 [00:00<00:00, 212119.04it/s]\n"
     ]
    },
    {
     "name": "stdout",
     "output_type": "stream",
     "text": [
      "cannot identify image file '/content/train/SarusCrane/00000135.jpg'\n",
      "cannot identify image file '/content/train/SarusCrane/00000411.jpg'\n",
      "cannot identify image file '/content/train/SarusCrane/00000326.jpg'\n",
      "cannot identify image file '/content/train/SarusCrane/00000488.jpg'\n",
      "cannot identify image file '/content/train/SarusCrane/00000267.jpg'\n",
      "cannot identify image file '/content/train/SarusCrane/00000479.jpg'\n",
      "cannot identify image file '/content/train/SarusCrane/00000537.jpg'\n",
      "cannot identify image file '/content/train/SarusCrane/00000492.jpg'\n",
      "cannot identify image file '/content/train/SarusCrane/00000406.jpg'\n",
      "cannot identify image file '/content/train/SarusCrane/00000467.jpg'\n",
      "cannot identify image file '/content/train/SarusCrane/00000592.jpg'\n",
      "cannot identify image file '/content/train/SarusCrane/00000543.jpg'\n",
      "cannot identify image file '/content/train/SarusCrane/00000540.jpg'\n"
     ]
    },
    {
     "name": "stderr",
     "output_type": "stream",
     "text": [
      "SarusCrane: 100%|██████████| 605/605 [00:00<00:00, 72650.99it/s]\n"
     ]
    },
    {
     "name": "stdout",
     "output_type": "stream",
     "text": [
      "cannot identify image file '/content/train/HimalayanMonal/00000144.jpg'\n",
      "cannot identify image file '/content/train/HimalayanMonal/00000374.jpg'\n",
      "cannot identify image file '/content/train/HimalayanMonal/00000426.jpg'\n",
      "cannot identify image file '/content/train/HimalayanMonal/00000084.jpg'\n",
      "cannot identify image file '/content/train/HimalayanMonal/00000441.jpg'\n",
      "cannot identify image file '/content/train/HimalayanMonal/00000420.jpg'\n",
      "cannot identify image file '/content/train/HimalayanMonal/00000459.jpg'\n",
      "cannot identify image file '/content/train/HimalayanMonal/00000031.jpg'\n",
      "cannot identify image file '/content/train/HimalayanMonal/00000392.jpg'\n",
      "cannot identify image file '/content/train/HimalayanMonal/00000256.jpg'\n",
      "cannot identify image file '/content/train/HimalayanMonal/00000238.jpg'\n"
     ]
    },
    {
     "name": "stderr",
     "output_type": "stream",
     "text": [
      "HimalayanMonal: 100%|██████████| 510/510 [00:00<00:00, 193863.97it/s]\n"
     ]
    },
    {
     "name": "stdout",
     "output_type": "stream",
     "text": [
      "cannot identify image file '/content/train/parrot/00000193.jpg'\n",
      "cannot identify image file '/content/train/parrot/00000609.jpg'\n",
      "cannot identify image file '/content/train/parrot/00000119.jpg'\n",
      "cannot identify image file '/content/train/parrot/00000175.jpg'\n",
      "cannot identify image file '/content/train/parrot/00000393.jpg'\n",
      "cannot identify image file '/content/train/parrot/00000120.jpg'\n",
      "cannot identify image file '/content/train/parrot/00000708.jpg'\n",
      "cannot identify image file '/content/train/parrot/00000831.jpg'\n",
      "cannot identify image file '/content/train/parrot/00000130.jpg'\n",
      "cannot identify image file '/content/train/parrot/00000122.jpg'\n",
      "cannot identify image file '/content/train/parrot/00000259.jpg'\n",
      "cannot identify image file '/content/train/parrot/00000811.jpg'\n",
      "cannot identify image file '/content/train/parrot/00000463.jpg'\n",
      "cannot identify image file '/content/train/parrot/00000625.jpg'\n",
      "cannot identify image file '/content/train/parrot/00000505.jpg'\n",
      "cannot identify image file '/content/train/parrot/00000666.jpg'\n",
      "cannot identify image file '/content/train/parrot/00000087.jpg'\n",
      "cannot identify image file '/content/train/parrot/00000603.jpg'\n",
      "cannot identify image file '/content/train/parrot/00000676.jpg'\n",
      "cannot identify image file '/content/train/parrot/00000835.jpg'\n",
      "cannot identify image file '/content/train/parrot/00000103.jpg'\n",
      "cannot identify image file '/content/train/parrot/00000686.jpg'\n",
      "cannot identify image file '/content/train/parrot/00000096.jpg'\n",
      "cannot identify image file '/content/train/parrot/00000243.jpg'\n",
      "cannot identify image file '/content/train/parrot/00000289.jpg'\n",
      "cannot identify image file '/content/train/parrot/00000179.jpg'\n",
      "cannot identify image file '/content/train/parrot/00000782.jpg'\n",
      "cannot identify image file '/content/train/parrot/00000653.jpg'\n",
      "cannot identify image file '/content/train/parrot/00000131.jpg'\n",
      "cannot identify image file '/content/train/parrot/00000361.jpg'\n",
      "cannot identify image file '/content/train/parrot/00000165.jpg'\n",
      "cannot identify image file '/content/train/parrot/00000508.jpg'\n",
      "cannot identify image file '/content/train/parrot/00000236.jpg'\n",
      "cannot identify image file '/content/train/parrot/00000415.jpg'\n",
      "cannot identify image file '/content/train/parrot/00000245.jpg'\n",
      "cannot identify image file '/content/train/parrot/00000479.jpg'\n",
      "cannot identify image file '/content/train/parrot/00000293.jpg'\n",
      "cannot identify image file '/content/train/parrot/00000817.jpg'\n",
      "cannot identify image file '/content/train/parrot/00000650.jpg'\n",
      "cannot identify image file '/content/train/parrot/00000745.jpg'\n",
      "cannot identify image file '/content/train/parrot/00000759.jpg'\n",
      "cannot identify image file '/content/train/parrot/00000732.jpg'\n",
      "cannot identify image file '/content/train/parrot/00000286.jpg'\n",
      "cannot identify image file '/content/train/parrot/00000556.jpg'\n",
      "cannot identify image file '/content/train/parrot/00000612.jpg'\n",
      "cannot identify image file '/content/train/parrot/00000594.jpg'\n",
      "cannot identify image file '/content/train/parrot/00000753.jpg'\n",
      "cannot identify image file '/content/train/parrot/00000444.jpg'\n",
      "cannot identify image file '/content/train/parrot/00000459.jpg'\n",
      "cannot identify image file '/content/train/parrot/00000031.jpg'\n",
      "cannot identify image file '/content/train/parrot/00000783.jpg'\n",
      "cannot identify image file '/content/train/parrot/00000669.jpg'\n",
      "cannot identify image file '/content/train/parrot/00000198.jpg'\n",
      "cannot identify image file '/content/train/parrot/00000504.jpg'\n",
      "cannot identify image file '/content/train/parrot/00000308.jpg'\n",
      "cannot identify image file '/content/train/parrot/00000360.jpg'\n",
      "cannot identify image file '/content/train/parrot/00000324.jpg'\n",
      "cannot identify image file '/content/train/parrot/00000592.jpg'\n",
      "cannot identify image file '/content/train/parrot/00000660.jpg'\n",
      "cannot identify image file '/content/train/parrot/00000543.jpg'\n",
      "cannot identify image file '/content/train/parrot/00000297.jpg'\n",
      "cannot identify image file '/content/train/parrot/00000478.jpg'\n",
      "cannot identify image file '/content/train/parrot/00000224.jpg'\n",
      "cannot identify image file '/content/train/parrot/00000285.jpg'\n",
      "cannot identify image file '/content/train/parrot/00000717.jpg'\n"
     ]
    },
    {
     "name": "stderr",
     "output_type": "stream",
     "text": [
      "parrot: 100%|██████████| 834/834 [00:00<00:00, 198066.33it/s]\n"
     ]
    },
    {
     "name": "stdout",
     "output_type": "stream",
     "text": [
      "cannot identify image file '/content/train/IndianPitta/00000135.jpg'\n",
      "cannot identify image file '/content/train/IndianPitta/00000434.jpg'\n",
      "cannot identify image file '/content/train/IndianPitta/00000393.jpg'\n",
      "cannot identify image file '/content/train/IndianPitta/00000484.jpg'\n",
      "cannot identify image file '/content/train/IndianPitta/00000108.jpg'\n",
      "cannot identify image file '/content/train/IndianPitta/00000101.jpg'\n",
      "cannot identify image file '/content/train/IndianPitta/00000166.jpg'\n",
      "cannot identify image file '/content/train/IndianPitta/00000342.jpg'\n",
      "cannot identify image file '/content/train/IndianPitta/00000517.jpg'\n",
      "cannot identify image file '/content/train/IndianPitta/00000097.jpg'\n",
      "cannot identify image file '/content/train/IndianPitta/00000213.jpg'\n",
      "cannot identify image file '/content/train/IndianPitta/00000373.jpg'\n",
      "cannot identify image file '/content/train/IndianPitta/00000593.jpg'\n",
      "cannot identify image file '/content/train/IndianPitta/00000325.jpg'\n",
      "cannot identify image file '/content/train/IndianPitta/00000579.jpg'\n",
      "cannot identify image file '/content/train/IndianPitta/00000224.jpg'\n",
      "cannot identify image file '/content/train/IndianPitta/00000354.jpg'\n",
      "cannot identify image file '/content/train/IndianPitta/00000564.jpg'\n"
     ]
    },
    {
     "name": "stderr",
     "output_type": "stream",
     "text": [
      "IndianPitta: 100%|██████████| 647/647 [00:00<00:00, 202093.74it/s]\n"
     ]
    },
    {
     "name": "stdout",
     "output_type": "stream",
     "text": [
      "cannot identify image file '/content/train/SatyrTragopan/00000176.jpg'\n",
      "cannot identify image file '/content/train/SatyrTragopan/00000095.jpg'\n",
      "cannot identify image file '/content/train/SatyrTragopan/00000220.jpg'\n",
      "cannot identify image file '/content/train/SatyrTragopan/00000284.jpg'\n",
      "cannot identify image file '/content/train/SatyrTragopan/00000104.jpg'\n",
      "cannot identify image file '/content/train/SatyrTragopan/00000280.jpg'\n"
     ]
    },
    {
     "name": "stderr",
     "output_type": "stream",
     "text": [
      "/usr/local/lib/python3.6/dist-packages/PIL/Image.py:872: UserWarning: Palette images with Transparency   expressed in bytes should be converted to RGBA images\n",
      "  'to RGBA images')\n"
     ]
    },
    {
     "name": "stdout",
     "output_type": "stream",
     "text": [
      "cannot identify image file '/content/train/SatyrTragopan/00000162.jpg'\n",
      "cannot identify image file '/content/train/SatyrTragopan/00000185.jpg'\n"
     ]
    },
    {
     "name": "stderr",
     "output_type": "stream",
     "text": [
      "/usr/local/lib/python3.6/dist-packages/PIL/Image.py:872: UserWarning: Palette images with Transparency   expressed in bytes should be converted to RGBA images\n",
      "  'to RGBA images')\n"
     ]
    },
    {
     "name": "stdout",
     "output_type": "stream",
     "text": [
      "cannot identify image file '/content/train/SatyrTragopan/00000303.jpg'\n"
     ]
    },
    {
     "name": "stderr",
     "output_type": "stream",
     "text": [
      "/usr/local/lib/python3.6/dist-packages/PIL/Image.py:872: UserWarning: Palette images with Transparency   expressed in bytes should be converted to RGBA images\n",
      "  'to RGBA images')\n"
     ]
    },
    {
     "name": "stdout",
     "output_type": "stream",
     "text": [
      "cannot identify image file '/content/train/SatyrTragopan/00000219.jpg'\n",
      "cannot identify image file '/content/train/SatyrTragopan/00000191.jpg'\n",
      "cannot identify image file '/content/train/SatyrTragopan/00000381.jpg'\n",
      "cannot identify image file '/content/train/SatyrTragopan/00000285.jpg'\n",
      "cannot identify image file '/content/train/SatyrTragopan/00000367.jpg'\n"
     ]
    },
    {
     "name": "stderr",
     "output_type": "stream",
     "text": [
      "SatyrTragopan: 100%|██████████| 531/531 [00:00<00:00, 190275.56it/s]\n"
     ]
    },
    {
     "name": "stdout",
     "output_type": "stream",
     "text": [
      "cannot identify image file '/content/train/MrsGould’sSunbird/00000306.jpg'\n",
      "cannot identify image file '/content/train/MrsGould’sSunbird/00000114.jpg'\n",
      "cannot identify image file '/content/train/MrsGould’sSunbird/00000065.jpg'\n",
      "cannot identify image file '/content/train/MrsGould’sSunbird/00000494.jpg'\n",
      "cannot identify image file '/content/train/MrsGould’sSunbird/00000217.jpg'\n",
      "cannot identify image file '/content/train/MrsGould’sSunbird/00000423.jpg'\n",
      "cannot identify image file '/content/train/MrsGould’sSunbird/00000474.jpg'\n",
      "cannot identify image file '/content/train/MrsGould’sSunbird/00000344.jpg'\n",
      "cannot identify image file '/content/train/MrsGould’sSunbird/00000412.jpg'\n",
      "cannot identify image file '/content/train/MrsGould’sSunbird/00000113.jpg'\n",
      "cannot identify image file '/content/train/MrsGould’sSunbird/00000153.jpg'\n",
      "cannot identify image file '/content/train/MrsGould’sSunbird/00000508.jpg'\n",
      "cannot identify image file '/content/train/MrsGould’sSunbird/00000406.jpg'\n",
      "cannot identify image file '/content/train/MrsGould’sSunbird/00000052.jpg'\n",
      "cannot identify image file '/content/train/MrsGould’sSunbird/00000362.jpg'\n",
      "cannot identify image file '/content/train/MrsGould’sSunbird/00000455.jpg'\n",
      "cannot identify image file '/content/train/MrsGould’sSunbird/00000519.jpg'\n"
     ]
    },
    {
     "name": "stderr",
     "output_type": "stream",
     "text": [
      "MrsGould’sSunbird: 100%|██████████| 544/544 [00:00<00:00, 173263.07it/s]\n"
     ]
    }
   ],
   "source": [
    "for folder,file in folder_file.items():\n",
    "    path = Path(\"train\")\n",
    "    verify_images(path/folder,delete=True,max_workers=8)"
   ]
  },
  {
   "cell_type": "code",
   "execution_count": 28,
   "metadata": {
    "colab": {
     "base_uri": "https://localhost:8080/",
     "height": 187
    },
    "colab_type": "code",
    "id": "pid9fWsMygpQ",
    "outputId": "23011810-1d10-4752-92ff-3c3337de3d66"
   },
   "outputs": [
    {
     "data": {
      "text/plain": [
       "[('HimalayanMonal', 499),\n",
       " ('SatyrTragopan', 517),\n",
       " ('OrientalDwarfKingfisher', 519),\n",
       " ('MrsGould’sSunbird', 527),\n",
       " ('RedHeadedTrogon', 561),\n",
       " ('SarusCrane', 592),\n",
       " ('AsianParadiseFlycatcher', 604),\n",
       " ('IndianPitta', 629),\n",
       " ('parrot', 769),\n",
       " ('peacock', 776)]"
      ]
     },
     "execution_count": 28,
     "metadata": {
      "tags": []
     },
     "output_type": "execute_result"
    }
   ],
   "source": [
    "birdsPerClassCountVerify = { (path/folder).name :len([*(path/folder).iterdir()]) for folder,file in folder_file.items() }\n",
    "sorted(birdsPerClassCountVerify.items() , key=lambda x :x[1])"
   ]
  },
  {
   "cell_type": "code",
   "execution_count": 29,
   "metadata": {
    "colab": {
     "base_uri": "https://localhost:8080/",
     "height": 105
    },
    "colab_type": "code",
    "id": "_XtikPyW79GT",
    "outputId": "4eb03bf6-b160-46f4-8cbf-438704544cc6"
   },
   "outputs": [
    {
     "name": "stderr",
     "output_type": "stream",
     "text": [
      "/usr/local/lib/python3.6/dist-packages/keras_applications/resnet50.py:265: UserWarning: The output shape of `ResNet50(include_top=False)` has been changed since Keras 2.2.0.\n",
      "  warnings.warn('The output shape of `ResNet50(include_top=False)` '\n"
     ]
    },
    {
     "name": "stdout",
     "output_type": "stream",
     "text": [
      "Downloading data from https://github.com/fchollet/deep-learning-models/releases/download/v0.2/resnet50_weights_tf_dim_ordering_tf_kernels_notop.h5\n",
      "94658560/94653016 [==============================] - 1s 0us/step\n"
     ]
    }
   ],
   "source": [
    "# let's train our Images on a pretrained Resnet50 model\n",
    "from keras.applications import ResNet50\n",
    "\n",
    "image_input_shape = (256, 256, 3)\n",
    "\n",
    "conv_base = ResNet50(weights='imagenet',\n",
    "                  include_top=False,\n",
    "                   classes=10,\n",
    "                  input_shape=image_input_shape)"
   ]
  },
  {
   "cell_type": "code",
   "execution_count": 30,
   "metadata": {
    "colab": {
     "base_uri": "https://localhost:8080/",
     "height": 6358
    },
    "colab_type": "code",
    "id": "jQyFChlsdiSb",
    "outputId": "f2fa69a5-6f1a-4d96-e54e-728eef07c6bc"
   },
   "outputs": [
    {
     "name": "stdout",
     "output_type": "stream",
     "text": [
      "__________________________________________________________________________________________________\n",
      "Layer (type)                    Output Shape         Param #     Connected to                     \n",
      "==================================================================================================\n",
      "input_1 (InputLayer)            (None, 256, 256, 3)  0                                            \n",
      "__________________________________________________________________________________________________\n",
      "conv1_pad (ZeroPadding2D)       (None, 262, 262, 3)  0           input_1[0][0]                    \n",
      "__________________________________________________________________________________________________\n",
      "conv1 (Conv2D)                  (None, 128, 128, 64) 9472        conv1_pad[0][0]                  \n",
      "__________________________________________________________________________________________________\n",
      "bn_conv1 (BatchNormalization)   (None, 128, 128, 64) 256         conv1[0][0]                      \n",
      "__________________________________________________________________________________________________\n",
      "activation_1 (Activation)       (None, 128, 128, 64) 0           bn_conv1[0][0]                   \n",
      "__________________________________________________________________________________________________\n",
      "pool1_pad (ZeroPadding2D)       (None, 130, 130, 64) 0           activation_1[0][0]               \n",
      "__________________________________________________________________________________________________\n",
      "max_pooling2d_1 (MaxPooling2D)  (None, 64, 64, 64)   0           pool1_pad[0][0]                  \n",
      "__________________________________________________________________________________________________\n",
      "res2a_branch2a (Conv2D)         (None, 64, 64, 64)   4160        max_pooling2d_1[0][0]            \n",
      "__________________________________________________________________________________________________\n",
      "bn2a_branch2a (BatchNormalizati (None, 64, 64, 64)   256         res2a_branch2a[0][0]             \n",
      "__________________________________________________________________________________________________\n",
      "activation_2 (Activation)       (None, 64, 64, 64)   0           bn2a_branch2a[0][0]              \n",
      "__________________________________________________________________________________________________\n",
      "res2a_branch2b (Conv2D)         (None, 64, 64, 64)   36928       activation_2[0][0]               \n",
      "__________________________________________________________________________________________________\n",
      "bn2a_branch2b (BatchNormalizati (None, 64, 64, 64)   256         res2a_branch2b[0][0]             \n",
      "__________________________________________________________________________________________________\n",
      "activation_3 (Activation)       (None, 64, 64, 64)   0           bn2a_branch2b[0][0]              \n",
      "__________________________________________________________________________________________________\n",
      "res2a_branch2c (Conv2D)         (None, 64, 64, 256)  16640       activation_3[0][0]               \n",
      "__________________________________________________________________________________________________\n",
      "res2a_branch1 (Conv2D)          (None, 64, 64, 256)  16640       max_pooling2d_1[0][0]            \n",
      "__________________________________________________________________________________________________\n",
      "bn2a_branch2c (BatchNormalizati (None, 64, 64, 256)  1024        res2a_branch2c[0][0]             \n",
      "__________________________________________________________________________________________________\n",
      "bn2a_branch1 (BatchNormalizatio (None, 64, 64, 256)  1024        res2a_branch1[0][0]              \n",
      "__________________________________________________________________________________________________\n",
      "add_1 (Add)                     (None, 64, 64, 256)  0           bn2a_branch2c[0][0]              \n",
      "                                                                 bn2a_branch1[0][0]               \n",
      "__________________________________________________________________________________________________\n",
      "activation_4 (Activation)       (None, 64, 64, 256)  0           add_1[0][0]                      \n",
      "__________________________________________________________________________________________________\n",
      "res2b_branch2a (Conv2D)         (None, 64, 64, 64)   16448       activation_4[0][0]               \n",
      "__________________________________________________________________________________________________\n",
      "bn2b_branch2a (BatchNormalizati (None, 64, 64, 64)   256         res2b_branch2a[0][0]             \n",
      "__________________________________________________________________________________________________\n",
      "activation_5 (Activation)       (None, 64, 64, 64)   0           bn2b_branch2a[0][0]              \n",
      "__________________________________________________________________________________________________\n",
      "res2b_branch2b (Conv2D)         (None, 64, 64, 64)   36928       activation_5[0][0]               \n",
      "__________________________________________________________________________________________________\n",
      "bn2b_branch2b (BatchNormalizati (None, 64, 64, 64)   256         res2b_branch2b[0][0]             \n",
      "__________________________________________________________________________________________________\n",
      "activation_6 (Activation)       (None, 64, 64, 64)   0           bn2b_branch2b[0][0]              \n",
      "__________________________________________________________________________________________________\n",
      "res2b_branch2c (Conv2D)         (None, 64, 64, 256)  16640       activation_6[0][0]               \n",
      "__________________________________________________________________________________________________\n",
      "bn2b_branch2c (BatchNormalizati (None, 64, 64, 256)  1024        res2b_branch2c[0][0]             \n",
      "__________________________________________________________________________________________________\n",
      "add_2 (Add)                     (None, 64, 64, 256)  0           bn2b_branch2c[0][0]              \n",
      "                                                                 activation_4[0][0]               \n",
      "__________________________________________________________________________________________________\n",
      "activation_7 (Activation)       (None, 64, 64, 256)  0           add_2[0][0]                      \n",
      "__________________________________________________________________________________________________\n",
      "res2c_branch2a (Conv2D)         (None, 64, 64, 64)   16448       activation_7[0][0]               \n",
      "__________________________________________________________________________________________________\n",
      "bn2c_branch2a (BatchNormalizati (None, 64, 64, 64)   256         res2c_branch2a[0][0]             \n",
      "__________________________________________________________________________________________________\n",
      "activation_8 (Activation)       (None, 64, 64, 64)   0           bn2c_branch2a[0][0]              \n",
      "__________________________________________________________________________________________________\n",
      "res2c_branch2b (Conv2D)         (None, 64, 64, 64)   36928       activation_8[0][0]               \n",
      "__________________________________________________________________________________________________\n",
      "bn2c_branch2b (BatchNormalizati (None, 64, 64, 64)   256         res2c_branch2b[0][0]             \n",
      "__________________________________________________________________________________________________\n",
      "activation_9 (Activation)       (None, 64, 64, 64)   0           bn2c_branch2b[0][0]              \n",
      "__________________________________________________________________________________________________\n",
      "res2c_branch2c (Conv2D)         (None, 64, 64, 256)  16640       activation_9[0][0]               \n",
      "__________________________________________________________________________________________________\n",
      "bn2c_branch2c (BatchNormalizati (None, 64, 64, 256)  1024        res2c_branch2c[0][0]             \n",
      "__________________________________________________________________________________________________\n",
      "add_3 (Add)                     (None, 64, 64, 256)  0           bn2c_branch2c[0][0]              \n",
      "                                                                 activation_7[0][0]               \n",
      "__________________________________________________________________________________________________\n",
      "activation_10 (Activation)      (None, 64, 64, 256)  0           add_3[0][0]                      \n",
      "__________________________________________________________________________________________________\n",
      "res3a_branch2a (Conv2D)         (None, 32, 32, 128)  32896       activation_10[0][0]              \n",
      "__________________________________________________________________________________________________\n",
      "bn3a_branch2a (BatchNormalizati (None, 32, 32, 128)  512         res3a_branch2a[0][0]             \n",
      "__________________________________________________________________________________________________\n",
      "activation_11 (Activation)      (None, 32, 32, 128)  0           bn3a_branch2a[0][0]              \n",
      "__________________________________________________________________________________________________\n",
      "res3a_branch2b (Conv2D)         (None, 32, 32, 128)  147584      activation_11[0][0]              \n",
      "__________________________________________________________________________________________________\n",
      "bn3a_branch2b (BatchNormalizati (None, 32, 32, 128)  512         res3a_branch2b[0][0]             \n",
      "__________________________________________________________________________________________________\n",
      "activation_12 (Activation)      (None, 32, 32, 128)  0           bn3a_branch2b[0][0]              \n",
      "__________________________________________________________________________________________________\n",
      "res3a_branch2c (Conv2D)         (None, 32, 32, 512)  66048       activation_12[0][0]              \n",
      "__________________________________________________________________________________________________\n",
      "res3a_branch1 (Conv2D)          (None, 32, 32, 512)  131584      activation_10[0][0]              \n",
      "__________________________________________________________________________________________________\n",
      "bn3a_branch2c (BatchNormalizati (None, 32, 32, 512)  2048        res3a_branch2c[0][0]             \n",
      "__________________________________________________________________________________________________\n",
      "bn3a_branch1 (BatchNormalizatio (None, 32, 32, 512)  2048        res3a_branch1[0][0]              \n",
      "__________________________________________________________________________________________________\n",
      "add_4 (Add)                     (None, 32, 32, 512)  0           bn3a_branch2c[0][0]              \n",
      "                                                                 bn3a_branch1[0][0]               \n",
      "__________________________________________________________________________________________________\n",
      "activation_13 (Activation)      (None, 32, 32, 512)  0           add_4[0][0]                      \n",
      "__________________________________________________________________________________________________\n",
      "res3b_branch2a (Conv2D)         (None, 32, 32, 128)  65664       activation_13[0][0]              \n",
      "__________________________________________________________________________________________________\n",
      "bn3b_branch2a (BatchNormalizati (None, 32, 32, 128)  512         res3b_branch2a[0][0]             \n",
      "__________________________________________________________________________________________________\n",
      "activation_14 (Activation)      (None, 32, 32, 128)  0           bn3b_branch2a[0][0]              \n",
      "__________________________________________________________________________________________________\n",
      "res3b_branch2b (Conv2D)         (None, 32, 32, 128)  147584      activation_14[0][0]              \n",
      "__________________________________________________________________________________________________\n",
      "bn3b_branch2b (BatchNormalizati (None, 32, 32, 128)  512         res3b_branch2b[0][0]             \n",
      "__________________________________________________________________________________________________\n",
      "activation_15 (Activation)      (None, 32, 32, 128)  0           bn3b_branch2b[0][0]              \n",
      "__________________________________________________________________________________________________\n",
      "res3b_branch2c (Conv2D)         (None, 32, 32, 512)  66048       activation_15[0][0]              \n",
      "__________________________________________________________________________________________________\n",
      "bn3b_branch2c (BatchNormalizati (None, 32, 32, 512)  2048        res3b_branch2c[0][0]             \n",
      "__________________________________________________________________________________________________\n",
      "add_5 (Add)                     (None, 32, 32, 512)  0           bn3b_branch2c[0][0]              \n",
      "                                                                 activation_13[0][0]              \n",
      "__________________________________________________________________________________________________\n",
      "activation_16 (Activation)      (None, 32, 32, 512)  0           add_5[0][0]                      \n",
      "__________________________________________________________________________________________________\n",
      "res3c_branch2a (Conv2D)         (None, 32, 32, 128)  65664       activation_16[0][0]              \n",
      "__________________________________________________________________________________________________\n",
      "bn3c_branch2a (BatchNormalizati (None, 32, 32, 128)  512         res3c_branch2a[0][0]             \n",
      "__________________________________________________________________________________________________\n",
      "activation_17 (Activation)      (None, 32, 32, 128)  0           bn3c_branch2a[0][0]              \n",
      "__________________________________________________________________________________________________\n",
      "res3c_branch2b (Conv2D)         (None, 32, 32, 128)  147584      activation_17[0][0]              \n",
      "__________________________________________________________________________________________________\n",
      "bn3c_branch2b (BatchNormalizati (None, 32, 32, 128)  512         res3c_branch2b[0][0]             \n",
      "__________________________________________________________________________________________________\n",
      "activation_18 (Activation)      (None, 32, 32, 128)  0           bn3c_branch2b[0][0]              \n",
      "__________________________________________________________________________________________________\n",
      "res3c_branch2c (Conv2D)         (None, 32, 32, 512)  66048       activation_18[0][0]              \n",
      "__________________________________________________________________________________________________\n",
      "bn3c_branch2c (BatchNormalizati (None, 32, 32, 512)  2048        res3c_branch2c[0][0]             \n",
      "__________________________________________________________________________________________________\n",
      "add_6 (Add)                     (None, 32, 32, 512)  0           bn3c_branch2c[0][0]              \n",
      "                                                                 activation_16[0][0]              \n",
      "__________________________________________________________________________________________________\n",
      "activation_19 (Activation)      (None, 32, 32, 512)  0           add_6[0][0]                      \n",
      "__________________________________________________________________________________________________\n",
      "res3d_branch2a (Conv2D)         (None, 32, 32, 128)  65664       activation_19[0][0]              \n",
      "__________________________________________________________________________________________________\n",
      "bn3d_branch2a (BatchNormalizati (None, 32, 32, 128)  512         res3d_branch2a[0][0]             \n",
      "__________________________________________________________________________________________________\n",
      "activation_20 (Activation)      (None, 32, 32, 128)  0           bn3d_branch2a[0][0]              \n",
      "__________________________________________________________________________________________________\n",
      "res3d_branch2b (Conv2D)         (None, 32, 32, 128)  147584      activation_20[0][0]              \n",
      "__________________________________________________________________________________________________\n",
      "bn3d_branch2b (BatchNormalizati (None, 32, 32, 128)  512         res3d_branch2b[0][0]             \n",
      "__________________________________________________________________________________________________\n",
      "activation_21 (Activation)      (None, 32, 32, 128)  0           bn3d_branch2b[0][0]              \n",
      "__________________________________________________________________________________________________\n",
      "res3d_branch2c (Conv2D)         (None, 32, 32, 512)  66048       activation_21[0][0]              \n",
      "__________________________________________________________________________________________________\n",
      "bn3d_branch2c (BatchNormalizati (None, 32, 32, 512)  2048        res3d_branch2c[0][0]             \n",
      "__________________________________________________________________________________________________\n",
      "add_7 (Add)                     (None, 32, 32, 512)  0           bn3d_branch2c[0][0]              \n",
      "                                                                 activation_19[0][0]              \n",
      "__________________________________________________________________________________________________\n",
      "activation_22 (Activation)      (None, 32, 32, 512)  0           add_7[0][0]                      \n",
      "__________________________________________________________________________________________________\n",
      "res4a_branch2a (Conv2D)         (None, 16, 16, 256)  131328      activation_22[0][0]              \n",
      "__________________________________________________________________________________________________\n",
      "bn4a_branch2a (BatchNormalizati (None, 16, 16, 256)  1024        res4a_branch2a[0][0]             \n",
      "__________________________________________________________________________________________________\n",
      "activation_23 (Activation)      (None, 16, 16, 256)  0           bn4a_branch2a[0][0]              \n",
      "__________________________________________________________________________________________________\n",
      "res4a_branch2b (Conv2D)         (None, 16, 16, 256)  590080      activation_23[0][0]              \n",
      "__________________________________________________________________________________________________\n",
      "bn4a_branch2b (BatchNormalizati (None, 16, 16, 256)  1024        res4a_branch2b[0][0]             \n",
      "__________________________________________________________________________________________________\n",
      "activation_24 (Activation)      (None, 16, 16, 256)  0           bn4a_branch2b[0][0]              \n",
      "__________________________________________________________________________________________________\n",
      "res4a_branch2c (Conv2D)         (None, 16, 16, 1024) 263168      activation_24[0][0]              \n",
      "__________________________________________________________________________________________________\n",
      "res4a_branch1 (Conv2D)          (None, 16, 16, 1024) 525312      activation_22[0][0]              \n",
      "__________________________________________________________________________________________________\n",
      "bn4a_branch2c (BatchNormalizati (None, 16, 16, 1024) 4096        res4a_branch2c[0][0]             \n",
      "__________________________________________________________________________________________________\n",
      "bn4a_branch1 (BatchNormalizatio (None, 16, 16, 1024) 4096        res4a_branch1[0][0]              \n",
      "__________________________________________________________________________________________________\n",
      "add_8 (Add)                     (None, 16, 16, 1024) 0           bn4a_branch2c[0][0]              \n",
      "                                                                 bn4a_branch1[0][0]               \n",
      "__________________________________________________________________________________________________\n",
      "activation_25 (Activation)      (None, 16, 16, 1024) 0           add_8[0][0]                      \n",
      "__________________________________________________________________________________________________\n",
      "res4b_branch2a (Conv2D)         (None, 16, 16, 256)  262400      activation_25[0][0]              \n",
      "__________________________________________________________________________________________________\n",
      "bn4b_branch2a (BatchNormalizati (None, 16, 16, 256)  1024        res4b_branch2a[0][0]             \n",
      "__________________________________________________________________________________________________\n",
      "activation_26 (Activation)      (None, 16, 16, 256)  0           bn4b_branch2a[0][0]              \n",
      "__________________________________________________________________________________________________\n",
      "res4b_branch2b (Conv2D)         (None, 16, 16, 256)  590080      activation_26[0][0]              \n",
      "__________________________________________________________________________________________________\n",
      "bn4b_branch2b (BatchNormalizati (None, 16, 16, 256)  1024        res4b_branch2b[0][0]             \n",
      "__________________________________________________________________________________________________\n",
      "activation_27 (Activation)      (None, 16, 16, 256)  0           bn4b_branch2b[0][0]              \n",
      "__________________________________________________________________________________________________\n",
      "res4b_branch2c (Conv2D)         (None, 16, 16, 1024) 263168      activation_27[0][0]              \n",
      "__________________________________________________________________________________________________\n",
      "bn4b_branch2c (BatchNormalizati (None, 16, 16, 1024) 4096        res4b_branch2c[0][0]             \n",
      "__________________________________________________________________________________________________\n",
      "add_9 (Add)                     (None, 16, 16, 1024) 0           bn4b_branch2c[0][0]              \n",
      "                                                                 activation_25[0][0]              \n",
      "__________________________________________________________________________________________________\n",
      "activation_28 (Activation)      (None, 16, 16, 1024) 0           add_9[0][0]                      \n",
      "__________________________________________________________________________________________________\n",
      "res4c_branch2a (Conv2D)         (None, 16, 16, 256)  262400      activation_28[0][0]              \n",
      "__________________________________________________________________________________________________\n",
      "bn4c_branch2a (BatchNormalizati (None, 16, 16, 256)  1024        res4c_branch2a[0][0]             \n",
      "__________________________________________________________________________________________________\n",
      "activation_29 (Activation)      (None, 16, 16, 256)  0           bn4c_branch2a[0][0]              \n",
      "__________________________________________________________________________________________________\n",
      "res4c_branch2b (Conv2D)         (None, 16, 16, 256)  590080      activation_29[0][0]              \n",
      "__________________________________________________________________________________________________\n",
      "bn4c_branch2b (BatchNormalizati (None, 16, 16, 256)  1024        res4c_branch2b[0][0]             \n",
      "__________________________________________________________________________________________________\n",
      "activation_30 (Activation)      (None, 16, 16, 256)  0           bn4c_branch2b[0][0]              \n",
      "__________________________________________________________________________________________________\n",
      "res4c_branch2c (Conv2D)         (None, 16, 16, 1024) 263168      activation_30[0][0]              \n",
      "__________________________________________________________________________________________________\n",
      "bn4c_branch2c (BatchNormalizati (None, 16, 16, 1024) 4096        res4c_branch2c[0][0]             \n",
      "__________________________________________________________________________________________________\n",
      "add_10 (Add)                    (None, 16, 16, 1024) 0           bn4c_branch2c[0][0]              \n",
      "                                                                 activation_28[0][0]              \n",
      "__________________________________________________________________________________________________\n",
      "activation_31 (Activation)      (None, 16, 16, 1024) 0           add_10[0][0]                     \n",
      "__________________________________________________________________________________________________\n",
      "res4d_branch2a (Conv2D)         (None, 16, 16, 256)  262400      activation_31[0][0]              \n",
      "__________________________________________________________________________________________________\n",
      "bn4d_branch2a (BatchNormalizati (None, 16, 16, 256)  1024        res4d_branch2a[0][0]             \n",
      "__________________________________________________________________________________________________\n",
      "activation_32 (Activation)      (None, 16, 16, 256)  0           bn4d_branch2a[0][0]              \n",
      "__________________________________________________________________________________________________\n",
      "res4d_branch2b (Conv2D)         (None, 16, 16, 256)  590080      activation_32[0][0]              \n",
      "__________________________________________________________________________________________________\n",
      "bn4d_branch2b (BatchNormalizati (None, 16, 16, 256)  1024        res4d_branch2b[0][0]             \n",
      "__________________________________________________________________________________________________\n",
      "activation_33 (Activation)      (None, 16, 16, 256)  0           bn4d_branch2b[0][0]              \n",
      "__________________________________________________________________________________________________\n",
      "res4d_branch2c (Conv2D)         (None, 16, 16, 1024) 263168      activation_33[0][0]              \n",
      "__________________________________________________________________________________________________\n",
      "bn4d_branch2c (BatchNormalizati (None, 16, 16, 1024) 4096        res4d_branch2c[0][0]             \n",
      "__________________________________________________________________________________________________\n",
      "add_11 (Add)                    (None, 16, 16, 1024) 0           bn4d_branch2c[0][0]              \n",
      "                                                                 activation_31[0][0]              \n",
      "__________________________________________________________________________________________________\n",
      "activation_34 (Activation)      (None, 16, 16, 1024) 0           add_11[0][0]                     \n",
      "__________________________________________________________________________________________________\n",
      "res4e_branch2a (Conv2D)         (None, 16, 16, 256)  262400      activation_34[0][0]              \n",
      "__________________________________________________________________________________________________\n",
      "bn4e_branch2a (BatchNormalizati (None, 16, 16, 256)  1024        res4e_branch2a[0][0]             \n",
      "__________________________________________________________________________________________________\n",
      "activation_35 (Activation)      (None, 16, 16, 256)  0           bn4e_branch2a[0][0]              \n",
      "__________________________________________________________________________________________________\n",
      "res4e_branch2b (Conv2D)         (None, 16, 16, 256)  590080      activation_35[0][0]              \n",
      "__________________________________________________________________________________________________\n",
      "bn4e_branch2b (BatchNormalizati (None, 16, 16, 256)  1024        res4e_branch2b[0][0]             \n",
      "__________________________________________________________________________________________________\n",
      "activation_36 (Activation)      (None, 16, 16, 256)  0           bn4e_branch2b[0][0]              \n",
      "__________________________________________________________________________________________________\n",
      "res4e_branch2c (Conv2D)         (None, 16, 16, 1024) 263168      activation_36[0][0]              \n",
      "__________________________________________________________________________________________________\n",
      "bn4e_branch2c (BatchNormalizati (None, 16, 16, 1024) 4096        res4e_branch2c[0][0]             \n",
      "__________________________________________________________________________________________________\n",
      "add_12 (Add)                    (None, 16, 16, 1024) 0           bn4e_branch2c[0][0]              \n",
      "                                                                 activation_34[0][0]              \n",
      "__________________________________________________________________________________________________\n",
      "activation_37 (Activation)      (None, 16, 16, 1024) 0           add_12[0][0]                     \n",
      "__________________________________________________________________________________________________\n",
      "res4f_branch2a (Conv2D)         (None, 16, 16, 256)  262400      activation_37[0][0]              \n",
      "__________________________________________________________________________________________________\n",
      "bn4f_branch2a (BatchNormalizati (None, 16, 16, 256)  1024        res4f_branch2a[0][0]             \n",
      "__________________________________________________________________________________________________\n",
      "activation_38 (Activation)      (None, 16, 16, 256)  0           bn4f_branch2a[0][0]              \n",
      "__________________________________________________________________________________________________\n",
      "res4f_branch2b (Conv2D)         (None, 16, 16, 256)  590080      activation_38[0][0]              \n",
      "__________________________________________________________________________________________________\n",
      "bn4f_branch2b (BatchNormalizati (None, 16, 16, 256)  1024        res4f_branch2b[0][0]             \n",
      "__________________________________________________________________________________________________\n",
      "activation_39 (Activation)      (None, 16, 16, 256)  0           bn4f_branch2b[0][0]              \n",
      "__________________________________________________________________________________________________\n",
      "res4f_branch2c (Conv2D)         (None, 16, 16, 1024) 263168      activation_39[0][0]              \n",
      "__________________________________________________________________________________________________\n",
      "bn4f_branch2c (BatchNormalizati (None, 16, 16, 1024) 4096        res4f_branch2c[0][0]             \n",
      "__________________________________________________________________________________________________\n",
      "add_13 (Add)                    (None, 16, 16, 1024) 0           bn4f_branch2c[0][0]              \n",
      "                                                                 activation_37[0][0]              \n",
      "__________________________________________________________________________________________________\n",
      "activation_40 (Activation)      (None, 16, 16, 1024) 0           add_13[0][0]                     \n",
      "__________________________________________________________________________________________________\n",
      "res5a_branch2a (Conv2D)         (None, 8, 8, 512)    524800      activation_40[0][0]              \n",
      "__________________________________________________________________________________________________\n",
      "bn5a_branch2a (BatchNormalizati (None, 8, 8, 512)    2048        res5a_branch2a[0][0]             \n",
      "__________________________________________________________________________________________________\n",
      "activation_41 (Activation)      (None, 8, 8, 512)    0           bn5a_branch2a[0][0]              \n",
      "__________________________________________________________________________________________________\n",
      "res5a_branch2b (Conv2D)         (None, 8, 8, 512)    2359808     activation_41[0][0]              \n",
      "__________________________________________________________________________________________________\n",
      "bn5a_branch2b (BatchNormalizati (None, 8, 8, 512)    2048        res5a_branch2b[0][0]             \n",
      "__________________________________________________________________________________________________\n",
      "activation_42 (Activation)      (None, 8, 8, 512)    0           bn5a_branch2b[0][0]              \n",
      "__________________________________________________________________________________________________\n",
      "res5a_branch2c (Conv2D)         (None, 8, 8, 2048)   1050624     activation_42[0][0]              \n",
      "__________________________________________________________________________________________________\n",
      "res5a_branch1 (Conv2D)          (None, 8, 8, 2048)   2099200     activation_40[0][0]              \n",
      "__________________________________________________________________________________________________\n",
      "bn5a_branch2c (BatchNormalizati (None, 8, 8, 2048)   8192        res5a_branch2c[0][0]             \n",
      "__________________________________________________________________________________________________\n",
      "bn5a_branch1 (BatchNormalizatio (None, 8, 8, 2048)   8192        res5a_branch1[0][0]              \n",
      "__________________________________________________________________________________________________\n",
      "add_14 (Add)                    (None, 8, 8, 2048)   0           bn5a_branch2c[0][0]              \n",
      "                                                                 bn5a_branch1[0][0]               \n",
      "__________________________________________________________________________________________________\n",
      "activation_43 (Activation)      (None, 8, 8, 2048)   0           add_14[0][0]                     \n",
      "__________________________________________________________________________________________________\n",
      "res5b_branch2a (Conv2D)         (None, 8, 8, 512)    1049088     activation_43[0][0]              \n",
      "__________________________________________________________________________________________________\n",
      "bn5b_branch2a (BatchNormalizati (None, 8, 8, 512)    2048        res5b_branch2a[0][0]             \n",
      "__________________________________________________________________________________________________\n",
      "activation_44 (Activation)      (None, 8, 8, 512)    0           bn5b_branch2a[0][0]              \n",
      "__________________________________________________________________________________________________\n",
      "res5b_branch2b (Conv2D)         (None, 8, 8, 512)    2359808     activation_44[0][0]              \n",
      "__________________________________________________________________________________________________\n",
      "bn5b_branch2b (BatchNormalizati (None, 8, 8, 512)    2048        res5b_branch2b[0][0]             \n",
      "__________________________________________________________________________________________________\n",
      "activation_45 (Activation)      (None, 8, 8, 512)    0           bn5b_branch2b[0][0]              \n",
      "__________________________________________________________________________________________________\n",
      "res5b_branch2c (Conv2D)         (None, 8, 8, 2048)   1050624     activation_45[0][0]              \n",
      "__________________________________________________________________________________________________\n",
      "bn5b_branch2c (BatchNormalizati (None, 8, 8, 2048)   8192        res5b_branch2c[0][0]             \n",
      "__________________________________________________________________________________________________\n",
      "add_15 (Add)                    (None, 8, 8, 2048)   0           bn5b_branch2c[0][0]              \n",
      "                                                                 activation_43[0][0]              \n",
      "__________________________________________________________________________________________________\n",
      "activation_46 (Activation)      (None, 8, 8, 2048)   0           add_15[0][0]                     \n",
      "__________________________________________________________________________________________________\n",
      "res5c_branch2a (Conv2D)         (None, 8, 8, 512)    1049088     activation_46[0][0]              \n",
      "__________________________________________________________________________________________________\n",
      "bn5c_branch2a (BatchNormalizati (None, 8, 8, 512)    2048        res5c_branch2a[0][0]             \n",
      "__________________________________________________________________________________________________\n",
      "activation_47 (Activation)      (None, 8, 8, 512)    0           bn5c_branch2a[0][0]              \n",
      "__________________________________________________________________________________________________\n",
      "res5c_branch2b (Conv2D)         (None, 8, 8, 512)    2359808     activation_47[0][0]              \n",
      "__________________________________________________________________________________________________\n",
      "bn5c_branch2b (BatchNormalizati (None, 8, 8, 512)    2048        res5c_branch2b[0][0]             \n",
      "__________________________________________________________________________________________________\n",
      "activation_48 (Activation)      (None, 8, 8, 512)    0           bn5c_branch2b[0][0]              \n",
      "__________________________________________________________________________________________________\n",
      "res5c_branch2c (Conv2D)         (None, 8, 8, 2048)   1050624     activation_48[0][0]              \n",
      "__________________________________________________________________________________________________\n",
      "bn5c_branch2c (BatchNormalizati (None, 8, 8, 2048)   8192        res5c_branch2c[0][0]             \n",
      "__________________________________________________________________________________________________\n",
      "add_16 (Add)                    (None, 8, 8, 2048)   0           bn5c_branch2c[0][0]              \n",
      "                                                                 activation_46[0][0]              \n",
      "__________________________________________________________________________________________________\n",
      "activation_49 (Activation)      (None, 8, 8, 2048)   0           add_16[0][0]                     \n",
      "==================================================================================================\n",
      "Total params: 23,587,712\n",
      "Trainable params: 23,534,592\n",
      "Non-trainable params: 53,120\n",
      "__________________________________________________________________________________________________\n"
     ]
    }
   ],
   "source": [
    "conv_base.summary()"
   ]
  },
  {
   "cell_type": "code",
   "execution_count": 37,
   "metadata": {
    "colab": {
     "base_uri": "https://localhost:8080/",
     "height": 238
    },
    "colab_type": "code",
    "id": "_K_975NJIKrk",
    "outputId": "e39ab1f0-6845-45a9-8f2c-b84c5a807921"
   },
   "outputs": [
    {
     "name": "stdout",
     "output_type": "stream",
     "text": [
      "_________________________________________________________________\n",
      "Layer (type)                 Output Shape              Param #   \n",
      "=================================================================\n",
      "resnet50 (Model)             (None, 8, 8, 2048)        23587712  \n",
      "_________________________________________________________________\n",
      "avg_pool (GlobalAveragePooli (None, 2048)              0         \n",
      "_________________________________________________________________\n",
      "dense_2 (Dense)              (None, 10)                20490     \n",
      "=================================================================\n",
      "Total params: 23,608,202\n",
      "Trainable params: 20,490\n",
      "Non-trainable params: 23,587,712\n",
      "_________________________________________________________________\n"
     ]
    }
   ],
   "source": [
    "from keras import models\n",
    "from keras import layers\n",
    "\n",
    "model = models.Sequential()\n",
    "model.add(conv_base)\n",
    "model.add(layers.GlobalAveragePooling2D(name='avg_pool'))\n",
    "model.add(layers.Dense(10, activation='softmax'))\n",
    "model.summary()"
   ]
  },
  {
   "cell_type": "code",
   "execution_count": 38,
   "metadata": {
    "colab": {
     "base_uri": "https://localhost:8080/",
     "height": 51
    },
    "colab_type": "code",
    "id": "0j9z2QR8Jgva",
    "outputId": "85a5e7f3-6c71-4cfd-95ab-97d2e586385a"
   },
   "outputs": [
    {
     "name": "stdout",
     "output_type": "stream",
     "text": [
      "This is the number of trainable weights before freezing the conv base:2\n",
      "This is the number of trainable weights after freezing the conv base:2\n"
     ]
    }
   ],
   "source": [
    "print(f'This is the number of trainable weights before freezing the conv base:{len(model.trainable_weights)}')\n",
    "conv_base.trainable=False\n",
    "print(f'This is the number of trainable weights after freezing the conv base:{len(model.trainable_weights)}')\n"
   ]
  },
  {
   "cell_type": "code",
   "execution_count": 0,
   "metadata": {
    "colab": {},
    "colab_type": "code",
    "id": "Uqcq3wJEKAZk"
   },
   "outputs": [],
   "source": [
    "model.compile(loss='categorical_crossentropy',\n",
    "             optimizer='adam',\n",
    "             metrics=['accuracy'])"
   ]
  },
  {
   "cell_type": "code",
   "execution_count": 41,
   "metadata": {
    "colab": {
     "base_uri": "https://localhost:8080/",
     "height": 391
    },
    "colab_type": "code",
    "id": "V6RTxbvIKmT7",
    "outputId": "c232cbf9-46ad-46c4-ae00-3e9fc25f7ecd"
   },
   "outputs": [
    {
     "name": "stdout",
     "output_type": "stream",
     "text": [
      "Found 4800 images belonging to 10 classes.\n",
      "Found 1193 images belonging to 10 classes.\n",
      "Epoch 1/10\n",
      "150/150 [==============================] - 191s 1s/step - loss: 1.6792 - acc: 0.4319 - val_loss: 2.2606 - val_acc: 0.2610\n",
      "Epoch 2/10\n",
      "150/150 [==============================] - 177s 1s/step - loss: 1.2869 - acc: 0.5667 - val_loss: 2.0732 - val_acc: 0.2963\n",
      "Epoch 3/10\n",
      "150/150 [==============================] - 177s 1s/step - loss: 1.1946 - acc: 0.6043 - val_loss: 2.0628 - val_acc: 0.3342\n",
      "Epoch 4/10\n",
      "150/150 [==============================] - 170s 1s/step - loss: 1.1112 - acc: 0.6337 - val_loss: 2.4757 - val_acc: 0.2610\n",
      "Epoch 5/10\n",
      "150/150 [==============================] - 177s 1s/step - loss: 1.0747 - acc: 0.6363 - val_loss: 1.8439 - val_acc: 0.3824\n",
      "Epoch 6/10\n",
      "150/150 [==============================] - 175s 1s/step - loss: 1.0488 - acc: 0.6614 - val_loss: 2.2957 - val_acc: 0.3015\n",
      "Epoch 7/10\n",
      "150/150 [==============================] - 174s 1s/step - loss: 1.0578 - acc: 0.6579 - val_loss: 2.3381 - val_acc: 0.2920\n",
      "Epoch 8/10\n",
      "150/150 [==============================] - 180s 1s/step - loss: 1.0148 - acc: 0.6702 - val_loss: 2.2423 - val_acc: 0.3239\n",
      "Epoch 9/10\n",
      "150/150 [==============================] - 174s 1s/step - loss: 1.0171 - acc: 0.6607 - val_loss: 2.6206 - val_acc: 0.2739\n",
      "Epoch 10/10\n",
      "150/150 [==============================] - 173s 1s/step - loss: 0.9752 - acc: 0.6866 - val_loss: 2.3208 - val_acc: 0.2972\n"
     ]
    }
   ],
   "source": [
    "batch_size=32\n",
    "# Use ImageDataGenerator with validation split of 20 % and  Image Augmentaion\n",
    "datagen = keras.preprocessing.image.ImageDataGenerator(rotation_range=15, \n",
    "                                             brightness_range=(0.1,0.2) ,\n",
    "                                             zoom_range=2, \n",
    "                                             horizontal_flip=True, \n",
    "                                             validation_split=0.2)\n",
    "\n",
    "# use flow_from directory method in keras and give the parent directory name\n",
    "train_generator = datagen.flow_from_directory(Path(\"train\"),\n",
    "                                              batch_size=batch_size,\n",
    "                                              target_size=(256,256) , \n",
    "                                              subset=\"training\")\n",
    "\n",
    "validation_generator = datagen.flow_from_directory(Path(\"train\"),\n",
    "                                                   batch_size=batch_size,\n",
    "                                                   target_size=(256,256) , \n",
    "                                                   subset=\"validation\")\n",
    "\n",
    "\n",
    "history = model.fit_generator(image_generator,\n",
    "                              steps_per_epoch =train_generator.samples // batch_size, \n",
    "                              epochs=10, \n",
    "                              verbose=1,\n",
    "                              workers=8,\n",
    "                              validation_steps = validation_generator.samples // batch_size,\n",
    "                              validation_data = validation_generator)\n"
   ]
  },
  {
   "cell_type": "markdown",
   "metadata": {
    "colab_type": "text",
    "id": "mwgzwypQPUj3"
   },
   "source": [
    "# **THE** **END**\n",
    " \n"
   ]
  },
  {
   "cell_type": "code",
   "execution_count": 0,
   "metadata": {
    "colab": {},
    "colab_type": "code",
    "id": "dFhOnKknPbB3"
   },
   "outputs": [],
   "source": []
  }
 ],
 "metadata": {
  "accelerator": "GPU",
  "colab": {
   "collapsed_sections": [],
   "name": "Creating_Datasets.ipynb",
   "provenance": [],
   "version": "0.3.2"
  },
  "kernelspec": {
   "display_name": "Python 3",
   "language": "python",
   "name": "python3"
  },
  "language_info": {
   "codemirror_mode": {
    "name": "ipython",
    "version": 3
   },
   "file_extension": ".py",
   "mimetype": "text/x-python",
   "name": "python",
   "nbconvert_exporter": "python",
   "pygments_lexer": "ipython3",
   "version": "3.6.6"
  }
 },
 "nbformat": 4,
 "nbformat_minor": 1
}
